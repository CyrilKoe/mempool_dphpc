{
 "cells": [
  {
   "cell_type": "code",
   "execution_count": 1,
   "metadata": {
    "collapsed": false
   },
   "outputs": [],
   "source": [
    "from os import walk\n",
    "import re\n",
    "import pandas as pd\n",
    "import matplotlib.pyplot as plt\n",
    "%matplotlib inline\n",
    "import seaborn as sns\n",
    "import numpy as np\n",
    "#sns.set()\n",
    "\n",
    "#path to your input result folder\n",
    "result_path = \"../hardware/results\"\n",
    "#path to the output csv\n",
    "csv_path= \"./results.csv\"\n",
    "\n",
    "\n",
    "def is_notebook() -> bool:\n",
    "    try:\n",
    "        shell = get_ipython().__class__.__name__\n",
    "        if shell == 'ZMQInteractiveShell':\n",
    "            return True   # Jupyter notebook or qtconsole\n",
    "        elif shell == 'TerminalInteractiveShell':\n",
    "            return False  # Terminal running IPython\n",
    "        else:\n",
    "            return False  # Other type (?)\n",
    "    except NameError:\n",
    "        return False      # Probably standard Python interpreter\n"
   ]
  },
  {
   "cell_type": "code",
   "execution_count": 2,
   "metadata": {
    "collapsed": false,
    "scrolled": true
   },
   "outputs": [
    {
     "name": "stdout",
     "output_type": "stream",
     "text": [
      "Processing files at ../hardware/results\n",
      "174/175\n",
      "Results exported to ./results.csv\n"
     ]
    }
   ],
   "source": [
    "print(\"Processing files at\", result_path)\n",
    "\n",
    "todo, done = 0, 0\n",
    "for (dirpath, dirnames, filenames) in walk(result_path):\n",
    "    for filename in filenames:\n",
    "        if filename == \"transcript\":\n",
    "            todo+=1\n",
    "\n",
    "configs = []\n",
    "tot_df = pd.DataFrame()\n",
    "for (dirpath, dirnames, filenames) in walk(result_path):\n",
    "    num_cores = -1\n",
    "    num_data = -1\n",
    "    num_local_data = -1\n",
    "    max_val = -1\n",
    "    seed = -1\n",
    "            \n",
    "    for filename in filenames:\n",
    "        if filename != \"transcript\":\n",
    "            continue\n",
    "        p = re.compile(\"[0-9]+\")\n",
    "        # Get parameters from the directory name first\n",
    "        num_cores, num_data, max_val, seed = dirpath.split('/')[-2].split('_')[-4:]\n",
    "        num_cores, num_data, max_val, seed = int(num_cores), int(num_data), int(max_val), int(seed)\n",
    "        nul_local_data = int(num_data / num_cores)\n",
    "        # Override them based on transcript if any\n",
    "        with open(dirpath+\"/\"+filename, \"r\") as fp:\n",
    "            for line in fp.readlines():\n",
    "                if \"Benchmark\" not in line:\n",
    "                    continue\n",
    "                p = re.compile(\"[0-9]+\")\n",
    "                print([a.group() for a in p.finditer(line)])\n",
    "                num_cores, num_data, num_local_data = [a.group() for a in p.finditer(line)]\n",
    "                num_cores, num_data, num_local_data = int(num_cores), int(num_data), int(num_local_data)\n",
    "                if \"ERROR\" in line:\n",
    "                    print(\"ERROR\")\n",
    "                    assert(0)\n",
    "\n",
    "        # Read CSV\n",
    "        print(\"\\r{}/{}\".format(done, todo), end=\"\")\n",
    "        done += 1\n",
    "        df = pd.read_csv(dirpath+\"/results.csv\", index_col=0)\n",
    "        df[\"num_cores\"] = int(num_cores)\n",
    "        df[\"num_data\"] = int(num_data)\n",
    "        df[\"num_local_data\"] = int(num_local_data)\n",
    "        df[\"max_val\"] = int(max_val)\n",
    "        df[\"seed\"] = int(seed)\n",
    "        # Concat everyone\n",
    "        configs.append([num_cores, num_data, num_local_data])\n",
    "        tot_df = pd.concat([tot_df, df], axis=0, join=\"outer\", ignore_index=False, keys=None, levels=None, names=None, verify_integrity=False, copy=True)\n",
    "print(\"\")\n",
    "# Drop nans\n",
    "to_drop = tot_df.columns[tot_df.isnull().any()]\n",
    "for nan_col in to_drop:\n",
    "    assert(not nan_col in ['cycles', 'num_data', 'num_cores'])\n",
    "    tot_df = tot_df.drop(nan_col, axis=1)\n",
    "\n",
    "# Drop strings\n",
    "tot_df = tot_df.select_dtypes(exclude=['object'])\n",
    "\n",
    "tot_df.to_csv(csv_path)\n",
    "print(\"Results exported to\", csv_path)"
   ]
  },
  {
   "cell_type": "code",
   "execution_count": 3,
   "metadata": {
    "collapsed": false
   },
   "outputs": [
    {
     "name": "stdout",
     "output_type": "stream",
     "text": [
      "(29172, 16)\n",
      "   core  section  start    end  cycles  snitch_loads  snitch_stores  \\\n",
      "0     0        0  18928  22228    3301           512            512   \n",
      "1     0        1  22230  28305    6076           590            102   \n",
      "2     0        2  28307  28307       1             0              0   \n",
      "3     1        0  19828  31312   11485           279            283   \n",
      "4     1        1  31314  33755    2442           315             49   \n",
      "\n",
      "   snitch_avg_load_latency  snitch_occupancy  total_ipc  snitch_issues  \\\n",
      "0                10.253906          0.428658   0.428658           1415   \n",
      "1                 4.149153          0.528802   0.528802           3213   \n",
      "2                 0.000000          1.000000   1.000000              1   \n",
      "3                 9.581227          0.125990   0.125990           1447   \n",
      "4                 1.412698          0.700246   0.700246           1710   \n",
      "\n",
      "   num_cores  num_data  num_local_data  max_val        seed  \n",
      "0          1         2              -1       32  1671362532  \n",
      "1          1         2              -1       32  1671362532  \n",
      "2          1         2              -1       32  1671362532  \n",
      "3          2         2              -1       32  1671362532  \n",
      "4          2         2              -1       32  1671362532  \n"
     ]
    }
   ],
   "source": [
    "tot_df = pd.read_csv(csv_path)\n",
    "print(tot_df.shape)\n",
    "print(tot_df.head())"
   ]
  },
  {
   "cell_type": "code",
   "execution_count": 22,
   "metadata": {
    "collapsed": false
   },
   "outputs": [],
   "source": [
    "# iddx of the CI of the median with 95%\n",
    "def ci_idx(n):\n",
    "    return [int((n-1.96*np.sqrt(n))/2), int(np.ceil(1+(n+1.96*np.sqrt(n))/2))]\n",
    "\n",
    "# return (ci_low, median, ci_high) for a list of values\n",
    "def median_and_ci(data):\n",
    "    n = len(data)\n",
    "    a, b = ci_idx(n)\n",
    "    data_sorted = sorted(data)\n",
    "    return data_sorted[a], data_sorted[int(n/2)], data_sorted[min(b, n-1)]\n",
    "\n",
    "def get_median(data):\n",
    "    return median_and_ci(data)[1]\n",
    "def get_ci(data):\n",
    "    a, b, c = median_and_ci(data)\n",
    "    return a, c\n",
    "\n",
    "def get_ideal_speedup(a, b, n=100):\n",
    "    X = np.linspace(a, b, num=n)\n",
    "    return X, X"
   ]
  },
  {
   "cell_type": "code",
   "execution_count": 50,
   "metadata": {
    "collapsed": false
   },
   "outputs": [
    {
     "name": "stdout",
     "output_type": "stream",
     "text": [
      "Tot_df : (29172, 16)\n",
      "Experiment : (9243, 16)\n",
      "( 1 , 7 ) : ( 0.155945 , 0.156632 , 0.158513 )\n",
      "( 2 , 7 ) : ( 0.078999 , 0.079387 , 0.080373 )\n",
      "( 4 , 7 ) : ( 0.041147 , 0.041306 , 0.041857 )\n",
      "( 8 , 7 ) : ( 0.021736 , 0.02226 , 0.02246 )\n",
      "( 16 , 6 ) : ( 0.012394 , 0.012757 , 0.013323 )\n",
      "( 32 , 6 ) : ( 0.007619 , 0.008314 , 0.008457 )\n",
      "( 64 , 6 ) : ( 0.005015 , 0.005371 , 0.005802 )\n",
      "( 128 , 6 ) : ( 0.004113 , 0.004396 , 0.004774 )\n",
      "( 256 , 6 ) : ( 0.00358 , 0.003961 , 0.004107 )\n"
     ]
    },
    {
     "data": {
      "image/png": "[encoded data removed]",
      "text/plain": [
       "<matplotlib.figure.Figure at 0x7f1b952cac20>"
      ]
     },
     "metadata": {},
     "output_type": "display_data"
    },
    {
     "data": {
      "image/png": "[encoded data removed]",
      "text/plain": [
       "<matplotlib.figure.Figure at 0x7f1b952ca400>"
      ]
     },
     "metadata": {},
     "output_type": "display_data"
    },
    {
     "data": {
      "image/png": "[encoded data removed]",
      "text/plain": [
       "<matplotlib.figure.Figure at 0x7f1b94b5fe28>"
      ]
     },
     "metadata": {},
     "output_type": "display_data"
    }
   ],
   "source": [
    "print(\"Tot_df :\", tot_df.shape)\n",
    "\n",
    "colors = [(64, \"green\")]\n",
    "\n",
    "\n",
    "#\n",
    "# Strong scaling with confidence intervals\n",
    "#\n",
    "\n",
    "for num_data, color in colors: #tot_df['num_data'].unique():\n",
    "    experiment_df = tot_df.loc[tot_df['num_data'] == num_data]\n",
    "    print(\"Experiment :\", experiment_df.shape)\n",
    "    Y1, Y1_low, Y1_high = [], [], []\n",
    "    Y1_fill, Y1_argmax, Y1_reduction = [], [], []\n",
    "    num_cores_arr = [1, 2, 4, 8, 16, 32, 64, 128, 256]\n",
    "    all_cores = []\n",
    "    all_tot = []\n",
    "    for num_cores in num_cores_arr:\n",
    "        res_fill = []\n",
    "        res_argmax = []\n",
    "        res_reduction = []\n",
    "        res_tot = []\n",
    "        maxs = []\n",
    "        for seed in experiment_df['seed'].unique():\n",
    "            mask = (experiment_df['seed'] == seed) & (experiment_df['num_cores'] == num_cores)\n",
    "            masked = experiment_df[mask]\n",
    "            if masked.empty:\n",
    "                continue\n",
    "            res_fill.append(      masked.loc[masked['section'] == 0]['cycles'].max() / 1000000 )\n",
    "            res_argmax.append(    masked.loc[masked['section'] == 1]['cycles'].max() / 1000000 )\n",
    "            res_reduction.append( masked.loc[masked['section'] == 2]['cycles'].max() / 1000000 )\n",
    "            # All does not count fill section\n",
    "            res_tot.append(       masked[masked['section']!=0].groupby(['core']).cycles.sum().max() / 1000000)\n",
    "            all_cores.append(     num_cores)\n",
    "            all_tot.append(       masked[masked['section']!=0].groupby(['core']).cycles.sum().max() / 1000000)\n",
    "        if len(res_tot) == 0:\n",
    "            continue\n",
    "        lo, median, hi = median_and_ci(res_tot)\n",
    "        Y1.append(median)\n",
    "        Y1_low.append(lo)\n",
    "        Y1_high.append(hi)\n",
    "        Y1_fill.append(get_median(res_fill))\n",
    "        Y1_argmax.append(get_median(res_argmax))\n",
    "        Y1_reduction.append(get_median(res_reduction))\n",
    "        print(\"(\", num_cores, \",\", len(res_tot), \")\", end=\" : \")\n",
    "        print(\"(\", lo, \",\", median, \",\", hi, \")\")\n",
    "    \n",
    "    Y1 = np.array(Y1)\n",
    "    all_cores = np.array(all_cores)\n",
    "    all_tot = np.array(all_tot)\n",
    "    \n",
    "    #plot_errorbars()\n",
    "    fig = plt.figure(figsize=(8, 6), dpi=80)\n",
    "    ax = fig.add_subplot(1, 1, 1)\n",
    "    ax.set_xscale('log', basex=2)\n",
    "    ax.set_xlim(1, 256)\n",
    "    #sns.pointplot(num_cores_arr, Y1[0]/Y1, errorbar=get_ci, join=False, ax=ax)\n",
    "    #sns.pointplot(num_cores_arr, 2*Y1[0]/Y1, errorbar=get_ci, join=False, ax=ax)\n",
    "    plt.plot(num_cores_arr, Y1[0]/Y1)\n",
    "    plt.plot(get_ideal_speedup(1, 256)[0], get_ideal_speedup(1, 256)[1])\n",
    "    plt.title(str(num_data * 256) + \" datas (int32)\")\n",
    "    plt.xlabel(\"# cores\")\n",
    "    plt.ylabel(\"Speedup\")\n",
    "    \n",
    "    plt.figure(figsize=(8, 6), dpi=80)\n",
    "    plot_df = pd.DataFrame({'Cores': num_cores_arr, 'Fill': Y1_fill, 'Argmax': Y1_argmax, 'Reduction': Y1_reduction}, \\\n",
    "                           columns = ['Cores', 'Fill', 'Argmax', 'Reduction'])\n",
    "    plot_df = plot_df.set_index('Cores')\n",
    "    plot_df.plot(kind='bar', stacked=True, color=['red', 'pink', 'blue'], ax=plt.gca())\n",
    "    plt.title(str(num_data * 256) + \" datas (int32)\")\n",
    "    plt.xlabel(\"# cores\")\n",
    "    plt.ylabel(\"Time (Gcycles)\")\n",
    "    \n",
    "    plt.figure(figsize=(8, 6), dpi=80)\n",
    "    filter_box = all_cores == 1\n",
    "    \n",
    "    # Remove median\n",
    "    for num_cores in num_cores_arr:\n",
    "        idx = np.where(all_cores == num_cores)\n",
    "        median = get_median(all_tot[idx])\n",
    "        all_tot[idx] -= median\n",
    "\n",
    "    plot_df = pd.DataFrame({'Cores': all_cores,\n",
    "                            'Total': all_tot}, \\\n",
    "                           columns = ['Cores', 'Total'])\n",
    "    sns.boxplot(data=plot_df, x=\"Cores\", y=\"Total\")\n",
    "    plt.title(str(num_data * 256) + \" datas (int32)\")\n",
    "    plt.xlabel(\"# cores\")\n",
    "    plt.ylabel(\"Difference with the median (Gcycles)\")\n",
    "    "
   ]
  },
  {
   "cell_type": "code",
   "execution_count": null,
   "metadata": {
    "collapsed": true
   },
   "outputs": [],
   "source": []
  }
 ],
 "metadata": {
  "kernelspec": {
   "display_name": "Python 3",
   "language": "python",
   "name": "python3"
  },
  "language_info": {
   "codemirror_mode": {
    "name": "ipython",
    "version": 3
   },
   "file_extension": ".py",
   "mimetype": "text/x-python",
   "name": "python",
   "nbconvert_exporter": "python",
   "pygments_lexer": "ipython3",
   "version": "3.4.4"
  }
 },
 "nbformat": 4,
 "nbformat_minor": 0
}
