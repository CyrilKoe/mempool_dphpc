{
 "cells": [
  {
   "cell_type": "code",
   "execution_count": 1,
   "metadata": {
    "collapsed": false
   },
   "outputs": [],
   "source": [
    "from os import walk\n",
    "import re\n",
    "import pandas as pd\n",
    "import matplotlib.pyplot as plt\n",
    "import matplotlib.ticker\n",
    "%matplotlib inline\n",
    "import seaborn as sns\n",
    "import numpy as np\n",
    "#sns.set()\n",
    "\n",
    "#path to your input result folder\n",
    "result_path = \"../hardware/results\"\n",
    "#path to the output csv\n",
    "csv_path= \"./results.csv\"\n",
    "\n",
    "\n",
    "def is_notebook() -> bool:\n",
    "    try:\n",
    "        shell = get_ipython().__class__.__name__\n",
    "        if shell == 'ZMQInteractiveShell':\n",
    "            return True   # Jupyter notebook or qtconsole\n",
    "        elif shell == 'TerminalInteractiveShell':\n",
    "            return False  # Terminal running IPython\n",
    "        else:\n",
    "            return False  # Other type (?)\n",
    "    except NameError:\n",
    "        return False      # Probably standard Python interpreter\n"
   ]
  },
  {
   "cell_type": "code",
   "execution_count": 2,
   "metadata": {
    "collapsed": false,
    "scrolled": true
   },
   "outputs": [
    {
     "name": "stdout",
     "output_type": "stream",
     "text": [
      "Processing files at ../hardware/results\n",
      "251/252\n",
      "Results exported to ./results.csv\n"
     ]
    }
   ],
   "source": [
    "print(\"Processing files at\", result_path)\n",
    "\n",
    "todo, done = 0, 0\n",
    "for (dirpath, dirnames, filenames) in walk(result_path):\n",
    "    for filename in filenames:\n",
    "        if filename == \"transcript\":\n",
    "            todo+=1\n",
    "\n",
    "configs = []\n",
    "tot_df = pd.DataFrame()\n",
    "for (dirpath, dirnames, filenames) in walk(result_path):\n",
    "    num_cores = -1\n",
    "    num_data = -1\n",
    "    num_local_data = -1\n",
    "    max_val = -1\n",
    "    seed = -1\n",
    "            \n",
    "    for filename in filenames:\n",
    "        if filename != \"transcript\":\n",
    "            continue\n",
    "        p = re.compile(\"[0-9]+\")\n",
    "        # Get parameters from the directory name first\n",
    "        num_cores, num_data, max_val, seed = dirpath.split('/')[-2].split('_')[-4:]\n",
    "        num_cores, num_data, max_val, seed = int(num_cores), int(num_data), int(max_val), int(seed)\n",
    "        nul_local_data = int(num_data / num_cores)\n",
    "        # Override them based on transcript if any\n",
    "        with open(dirpath+\"/\"+filename, \"r\") as fp:\n",
    "            for line in fp.readlines():\n",
    "                if \"Benchmark\" not in line:\n",
    "                    continue\n",
    "                p = re.compile(\"[0-9]+\")\n",
    "                print([a.group() for a in p.finditer(line)])\n",
    "                num_cores, num_data, num_local_data = [a.group() for a in p.finditer(line)]\n",
    "                num_cores, num_data, num_local_data = int(num_cores), int(num_data), int(num_local_data)\n",
    "                if \"ERROR\" in line:\n",
    "                    print(\"ERROR\")\n",
    "                    assert(0)\n",
    "\n",
    "        # Read CSV\n",
    "        print(\"\\r{}/{}\".format(done, todo), end=\"\")\n",
    "        done += 1\n",
    "        df = pd.read_csv(dirpath+\"/results.csv\", index_col=0)\n",
    "        df[\"num_cores\"] = int(num_cores)\n",
    "        df[\"num_data\"] = int(num_data)\n",
    "        df[\"num_local_data\"] = int(num_local_data)\n",
    "        df[\"max_val\"] = int(max_val)\n",
    "        df[\"seed\"] = int(seed)\n",
    "        # Concat everyone\n",
    "        configs.append([num_cores, num_data, num_local_data])\n",
    "        tot_df = pd.concat([tot_df, df], axis=0, join=\"outer\", ignore_index=False, keys=None, levels=None, names=None, verify_integrity=False, copy=True)\n",
    "print(\"\")\n",
    "# Drop nans\n",
    "to_drop = tot_df.columns[tot_df.isnull().any()]\n",
    "for nan_col in to_drop:\n",
    "    assert(not nan_col in ['cycles', 'num_data', 'num_cores'])\n",
    "    tot_df = tot_df.drop(nan_col, axis=1)\n",
    "\n",
    "# Drop strings\n",
    "tot_df = tot_df.select_dtypes(exclude=['object'])\n",
    "\n",
    "tot_df.to_csv(csv_path)\n",
    "print(\"Results exported to\", csv_path)"
   ]
  },
  {
   "cell_type": "code",
   "execution_count": 3,
   "metadata": {
    "collapsed": false
   },
   "outputs": [
    {
     "name": "stdout",
     "output_type": "stream",
     "text": [
      "(50772, 16)\n",
      "   core  section  start    end  cycles  snitch_loads  snitch_stores  \\\n",
      "0     0        0  18928  22228    3301           512            512   \n",
      "1     0        1  22230  28305    6076           590            102   \n",
      "2     0        2  28307  28307       1             0              0   \n",
      "3     1        0  19828  31312   11485           279            283   \n",
      "4     1        1  31314  33755    2442           315             49   \n",
      "\n",
      "   snitch_avg_load_latency  snitch_occupancy  total_ipc  snitch_issues  \\\n",
      "0                10.253906          0.428658   0.428658           1415   \n",
      "1                 4.149153          0.528802   0.528802           3213   \n",
      "2                 0.000000          1.000000   1.000000              1   \n",
      "3                 9.581227          0.125990   0.125990           1447   \n",
      "4                 1.412698          0.700246   0.700246           1710   \n",
      "\n",
      "   num_cores  num_data  num_local_data  max_val        seed  \n",
      "0          1         2              -1       32  1671362532  \n",
      "1          1         2              -1       32  1671362532  \n",
      "2          1         2              -1       32  1671362532  \n",
      "3          2         2              -1       32  1671362532  \n",
      "4          2         2              -1       32  1671362532  \n"
     ]
    }
   ],
   "source": [
    "tot_df = pd.read_csv(csv_path)\n",
    "print(tot_df.shape)\n",
    "print(tot_df.head())"
   ]
  },
  {
   "cell_type": "code",
   "execution_count": 4,
   "metadata": {
    "collapsed": false
   },
   "outputs": [],
   "source": [
    "# iddx of the CI of the median with 95%\n",
    "def ci_idx(n):\n",
    "    return [int((n-1.96*np.sqrt(n))/2), int(np.ceil(1+(n+1.96*np.sqrt(n))/2))]\n",
    "\n",
    "# return (ci_low, median, ci_high) for a list of values\n",
    "def median_and_ci(data):\n",
    "    n = len(data)\n",
    "    a, b = ci_idx(n)\n",
    "    data_sorted = sorted(data)\n",
    "    return data_sorted[a], data_sorted[int(n/2)], data_sorted[min(b, n-1)]\n",
    "\n",
    "def get_median(data):\n",
    "    return median_and_ci(data)[1]\n",
    "def get_ci(data):\n",
    "    a, b, c = median_and_ci(data)\n",
    "    return a, c\n",
    "\n",
    "def get_ideal_speedup(a, b, n=100):\n",
    "    X = np.linspace(a, b, num=n)\n",
    "    return X, X"
   ]
  },
  {
   "cell_type": "code",
   "execution_count": 13,
   "metadata": {
    "collapsed": false
   },
   "outputs": [
    {
     "name": "stdout",
     "output_type": "stream",
     "text": [
      "Tot_df : (50772, 16)\n",
      "Experiment : (10824, 16)\n",
      "( 1 , 8 ) : ( 0.486473 , 0.487314 , 0.498653 )\n",
      "( 2 , 8 ) : ( 0.244408 , 0.245096 , 0.251477 )\n",
      "( 4 , 8 ) : ( 0.123898 , 0.12454 , 0.128183 )\n",
      "( 8 , 8 ) : ( 0.063223 , 0.064258 , 0.066339 )\n",
      "( 16 , 8 ) : ( 0.033176 , 0.033845 , 0.034797 )\n",
      "( 32 , 7 ) : ( 0.018516 , 0.019038 , 0.019474 )\n",
      "( 64 , 7 ) : ( 0.011013 , 0.011441 , 0.012491 )\n",
      "( 128 , 7 ) : ( 0.007148 , 0.007766 , 0.009228 )\n",
      "( 256 , 7 ) : ( 0.004985 , 0.005271 , 0.006194 )\n"
     ]
    },
    {
     "data": {
      "image/png": "[encoded data removed]",
      "text/plain": [
       "<matplotlib.figure.Figure at 0x7fd13c5cd9b0>"
      ]
     },
     "metadata": {},
     "output_type": "display_data"
    },
    {
     "data": {
      "image/png": "[encoded data removed]",
      "text/plain": [
       "<matplotlib.figure.Figure at 0x7fd10bb63e90>"
      ]
     },
     "metadata": {},
     "output_type": "display_data"
    },
    {
     "data": {
      "image/png": "[encoded data removed]",
      "text/plain": [
       "<matplotlib.figure.Figure at 0x7fd10ad98878>"
      ]
     },
     "metadata": {},
     "output_type": "display_data"
    }
   ],
   "source": [
    "print(\"Tot_df :\", tot_df.shape)\n",
    "\n",
    "colors = [(200, \"green\")]\n",
    "\n",
    "\n",
    "#\n",
    "# Strong scaling with confidence intervals\n",
    "#\n",
    "\n",
    "for num_data, color in colors: #tot_df['num_data'].unique():\n",
    "    experiment_df = tot_df.loc[tot_df['num_data'] == num_data]\n",
    "    print(\"Experiment :\", experiment_df.shape)\n",
    "    Y1, Y1_low, Y1_high = [], [], []\n",
    "    Y1_fill, Y1_argmax, Y1_reduction = [], [], []\n",
    "    num_cores_arr = [1, 2, 4, 8, 16, 32, 64, 128, 256]\n",
    "    all_cores = []\n",
    "    all_tot = []\n",
    "    for num_cores in num_cores_arr:\n",
    "        res_fill = []\n",
    "        res_argmax = []\n",
    "        res_reduction = []\n",
    "        res_tot = []\n",
    "        maxs = []\n",
    "        for seed in experiment_df['seed'].unique():\n",
    "            mask = (experiment_df['seed'] == seed) & (experiment_df['num_cores'] == num_cores)\n",
    "            masked = experiment_df[mask]\n",
    "            if masked.empty:\n",
    "                continue\n",
    "            res_fill.append(      masked.loc[masked['section'] == 0]['cycles'].max() / 1000000 )\n",
    "            res_argmax.append(    masked.loc[masked['section'] == 1]['cycles'].max() / 1000000 )\n",
    "            res_reduction.append( masked.loc[masked['section'] == 2]['cycles'].max() / 1000000 )\n",
    "            # All does not count fill section\n",
    "            res_tot.append(       masked[masked['section']!=0].groupby(['core']).cycles.sum().max() / 1000000)\n",
    "            all_cores.append(     num_cores)\n",
    "            all_tot.append(       masked[masked['section']!=0].groupby(['core']).cycles.sum().max() / 1000000)\n",
    "        if len(res_tot) == 0:\n",
    "            continue\n",
    "        lo, median, hi = median_and_ci(res_tot)\n",
    "        Y1.append(median)\n",
    "        Y1_low.append(lo)\n",
    "        Y1_high.append(hi)\n",
    "        Y1_fill.append(get_median(res_fill))\n",
    "        Y1_argmax.append(get_median(res_argmax))\n",
    "        Y1_reduction.append(get_median(res_reduction))\n",
    "        print(\"(\", num_cores, \",\", len(res_tot), \")\", end=\" : \")\n",
    "        print(\"(\", lo, \",\", median, \",\", hi, \")\")\n",
    "    \n",
    "    Y1 = np.array(Y1)\n",
    "    all_cores = np.array(all_cores)\n",
    "    all_tot = np.array(all_tot)\n",
    "    \n",
    "    #plot_errorbars()\n",
    "    fig = plt.figure(figsize=(8, 6), dpi=80)\n",
    "    ax = fig.add_subplot(1, 1, 1)\n",
    "    ax.spines['right'].set_visible(False)\n",
    "    ax.spines['top'].set_visible(False)\n",
    "    ax.set_xscale('log', basex=2)\n",
    "    ax.set_xlim(1, 256)\n",
    "    ax.set_xticks(num_cores_arr)\n",
    "    ax.get_xaxis().set_major_formatter(matplotlib.ticker.ScalarFormatter())\n",
    "    #sns.pointplot(num_cores_arr, Y1[0]/Y1, errorbar=get_ci, join=False, ax=ax)\n",
    "    #sns.pointplot(num_cores_arr, 2*Y1[0]/Y1, errorbar=get_ci, join=False, ax=ax)\n",
    "    plt.plot(num_cores_arr, Y1[0]/Y1, '-o', label=\"Observed\")\n",
    "    plt.plot(get_ideal_speedup(1, 256)[0], get_ideal_speedup(1, 256)[1], '--', color=\"red\", label=\"Ideal\")\n",
    "    plt.legend()\n",
    "    plt.title(\"Argmax strong scaling with \" + str(num_data * 256) + \" datas (int32)\")\n",
    "    plt.xlabel(\"# cores\")\n",
    "    plt.ylabel(\"Speedup\")\n",
    "    \n",
    "    fig = plt.figure(figsize=(8, 6), dpi=80)\n",
    "    ax = fig.add_subplot(1, 1, 1)\n",
    "    ax.spines['right'].set_visible(False)\n",
    "    ax.spines['top'].set_visible(False)\n",
    "    plot_df = pd.DataFrame({'Cores': num_cores_arr, 'Fill': Y1_fill, 'Argmax': Y1_argmax, 'Reduction': Y1_reduction}, \\\n",
    "                           columns = ['Cores', 'Fill', 'Argmax', 'Reduction'])\n",
    "    plot_df = plot_df.set_index('Cores')\n",
    "    plot_df.drop(columns=['Fill']).plot(kind='bar', stacked=True, color=['orange', 'blue'], ax=ax)\n",
    "    plt.title(\"Computing time distribution with \" + str(num_data * 256) + \" datas (int32)\")\n",
    "    plt.xlabel(\"# cores\")\n",
    "    plt.ylabel(\"Time (Mcycles)\")\n",
    "    \n",
    "    fig = plt.figure(figsize=(8, 6), dpi=80)\n",
    "    filter_box = all_cores == 1\n",
    "    \n",
    "    # Remove median\n",
    "    for num_cores in num_cores_arr:\n",
    "        idx = np.where(all_cores == num_cores)\n",
    "        median = get_median(all_tot[idx])\n",
    "        #all_tot[idx] -= median\n",
    "\n",
    "    ax = fig.add_subplot(1, 1, 1)\n",
    "    ax.spines['right'].set_visible(False)\n",
    "    ax.spines['top'].set_visible(False)\n",
    "    plot_df = pd.DataFrame({'Cores': all_cores,\n",
    "                            'Total': all_tot}, \\\n",
    "                           columns = ['Cores', 'Total'])\n",
    "    sns.boxplot(data=plot_df, x=\"Cores\", y=\"Total\", whis=10, ax=ax)\n",
    "    plt.title(\"Variability with \" + str(num_data * 256) + \" datas (int32)\")\n",
    "    plt.xlabel(\"# cores\")\n",
    "    plt.ylabel(\"Time (Mcycles)\")\n",
    "    "
   ]
  },
  {
   "cell_type": "code",
   "execution_count": 9,
   "metadata": {
    "collapsed": false
   },
   "outputs": [
    {
     "name": "stdout",
     "output_type": "stream",
     "text": [
      "Tot_df : (50772, 16)\n",
      "Num cores: 1 Experiment : (132, 16)\n",
      "( 2 , 8 ) : ( 0.005208 , 0.005573 , 0.006077 )\n",
      "( 4 , 4 ) : ( 0.010516 , 0.010843 , 0.010845 )\n",
      "( 8 , 4 ) : ( 0.020029 , 0.02066 , 0.020662 )\n",
      "( 16 , 4 ) : ( 0.039611 , 0.040147 , 0.040787 )\n",
      "( 32 , 4 ) : ( 0.078722 , 0.081922 , 0.09276 )\n",
      "( 64 , 8 ) : ( 0.156508 , 0.157147 , 0.158513 )\n",
      "( 128 , 4 ) : ( 0.312434 , 0.314297 , 0.315818 )\n",
      "( 200 , 8 ) : ( 0.486473 , 0.487314 , 0.498653 )\n",
      "Num cores: 256 Experiment : (33024, 16)\n",
      "( 2 , 8 ) : ( 0.001396 , 0.001477 , 0.001515 )\n",
      "( 4 , 4 ) : ( 0.001741 , 0.001813 , 0.001896 )\n",
      "( 8 , 4 ) : ( 0.002411 , 0.002558 , 0.002601 )\n",
      "( 16 , 4 ) : ( 0.002705 , 0.002832 , 0.00286 )\n",
      "( 32 , 4 ) : ( 0.003063 , 0.003312 , 0.004926 )\n",
      "( 64 , 8 ) : ( 0.003625 , 0.003824 , 0.004107 )\n",
      "( 128 , 4 ) : ( 0.004343 , 0.004609 , 0.004984 )\n",
      "( 200 , 7 ) : ( 0.004985 , 0.005271 , 0.006194 )\n",
      "[  3.7731889    5.98069498   8.07662236  14.17620056  24.73490338\n",
      "  41.09492678  68.19201562  92.45190666]\n"
     ]
    },
    {
     "data": {
      "text/plain": [
       "<matplotlib.legend.Legend at 0x7fd10cb251f8>"
      ]
     },
     "execution_count": 9,
     "metadata": {},
     "output_type": "execute_result"
    },
    {
     "data": {
      "image/png": "[encoded data removed]",
      "text/plain": [
       "<matplotlib.figure.Figure at 0x7fd13c5eab50>"
      ]
     },
     "metadata": {},
     "output_type": "display_data"
    }
   ],
   "source": [
    "print(\"Tot_df :\", tot_df.shape)\n",
    "\n",
    "colors = [(1, \"Serial\"), (256, \"Parallel\")]\n",
    "\n",
    "#plot_errorbars()\n",
    "fig = plt.figure(figsize=(8, 6), dpi=80)\n",
    "ax = fig.add_subplot(1, 1, 1)\n",
    "ax.spines['right'].set_visible(False)\n",
    "ax.spines['top'].set_visible(False)\n",
    "ax.set_xscale('log', basex=2)\n",
    "ax.set_xlim(1, 256)\n",
    "ax.set_xticks(sorted(tot_df['num_data'].unique()))\n",
    "ax.get_xaxis().set_major_formatter(matplotlib.ticker.ScalarFormatter())\n",
    "plt.title(\"Speedup with input size\")\n",
    "plt.xlabel(\"Input size (KiB)\")\n",
    "plt.ylabel(\"Time (Mcycles)\")\n",
    "\n",
    "#\n",
    "# Strong scaling with confidence intervals\n",
    "#\n",
    "\n",
    "Y1_0 = []\n",
    "for num_cores, label in colors: #tot_df['num_data'].unique():\n",
    "    experiment_df = tot_df.loc[tot_df['num_cores'] == num_cores]\n",
    "    print(\"Num cores:\", num_cores,\"Experiment :\", experiment_df.shape)\n",
    "    Y1, Y1_low, Y1_high = [], [], []\n",
    "    Y1_fill, Y1_argmax, Y1_reduction = [], [], []\n",
    "    num_data_arr = sorted(tot_df['num_data'].unique())\n",
    "    all_data = []\n",
    "    all_tot = []\n",
    "    \n",
    "    mask = (experiment_df['num_data'] == 200)\n",
    "    \n",
    "    for num_data in num_data_arr:\n",
    "        res_fill = []\n",
    "        res_argmax = []\n",
    "        res_reduction = []\n",
    "        res_tot = []\n",
    "        for seed in experiment_df['seed'].unique():\n",
    "            mask = (experiment_df['seed'] == seed) & (experiment_df['num_data'] == num_data)\n",
    "            masked = experiment_df[mask]\n",
    "            if masked.empty:\n",
    "                continue\n",
    "            res_fill.append(      masked.loc[masked['section'] == 0]['cycles'].max() / 1000000 )\n",
    "            res_argmax.append(    masked.loc[masked['section'] == 1]['cycles'].max() / 1000000 )\n",
    "            res_reduction.append( masked.loc[masked['section'] == 2]['cycles'].max() / 1000000 )\n",
    "            # All does not count fill section\n",
    "            res_tot.append(       masked[masked['section']!=0].groupby(['core']).cycles.sum().max() / 1000000)\n",
    "            all_data.append(      num_data)\n",
    "            all_tot.append(       masked[masked['section']!=0].groupby(['core']).cycles.sum().max() / 1000000)\n",
    "        if len(res_tot) == 0:\n",
    "            continue\n",
    "        lo, median, hi = median_and_ci(res_tot)\n",
    "        Y1.append(median)\n",
    "        Y1_low.append(lo)\n",
    "        Y1_high.append(hi)\n",
    "        Y1_fill.append(get_median(res_fill))\n",
    "        Y1_argmax.append(get_median(res_argmax))\n",
    "        Y1_reduction.append(get_median(res_reduction))\n",
    "        print(\"(\", num_data, \",\", len(res_tot), \")\", end=\" : \")\n",
    "        print(\"(\", lo, \",\", median, \",\", hi, \")\")\n",
    "    \n",
    "    Y1 = np.array(Y1)\n",
    "    all_cores = np.array(all_cores)\n",
    "    all_tot = np.array(all_tot)\n",
    "    \n",
    "    plt.plot(num_data_arr, Y1, \"-o\", label=label)\n",
    "        \n",
    "    if num_cores != 1:\n",
    "        #plt.plot(num_data_arr, Y1_0/Y1, \"-o\", label=label)\n",
    "        print(Y1_0/Y1)\n",
    "    \n",
    "    if num_cores == 1:\n",
    "        Y1_0 = Y1\n",
    "\n",
    "plt.legend()"
   ]
  }
 ],
 "metadata": {
  "kernelspec": {
   "display_name": "Python 3",
   "language": "python",
   "name": "python3"
  },
  "language_info": {
   "codemirror_mode": {
    "name": "ipython",
    "version": 3
   },
   "file_extension": ".py",
   "mimetype": "text/x-python",
   "name": "python",
   "nbconvert_exporter": "python",
   "pygments_lexer": "ipython3",
   "version": "3.4.4"
  }
 },
 "nbformat": 4,
 "nbformat_minor": 0
}
